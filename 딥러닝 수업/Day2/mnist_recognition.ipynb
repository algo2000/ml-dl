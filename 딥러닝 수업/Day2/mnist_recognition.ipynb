{
 "cells": [
  {
   "cell_type": "code",
   "execution_count": 38,
   "metadata": {},
   "outputs": [],
   "source": [
    "import numpy as np\n",
    "import tensorflow as tf\n",
    "from tensorflow.keras.datasets import mnist"
   ]
  },
  {
   "cell_type": "code",
   "execution_count": 39,
   "metadata": {},
   "outputs": [],
   "source": [
    "from tensorflow.keras.models import Sequential\n",
    "from tensorflow.keras.layers import Dense\n",
    "from tensorflow.keras.optimizers import Adam"
   ]
  },
  {
   "cell_type": "code",
   "execution_count": 40,
   "metadata": {},
   "outputs": [],
   "source": [
    "#MNIST(케라스에서 지원하는 데이터 예제 셋) 읽어 와서 신경망에 입력할 형태로 변환\n",
    "(x_train, y_train),(x_test, y_test) = mnist.load_data()"
   ]
  },
  {
   "cell_type": "code",
   "execution_count": 41,
   "metadata": {},
   "outputs": [],
   "source": [
    "# reshape함수로 2차원 구조의 텐서를 1차원 구조로 변환\n",
    "x_train = x_train.reshape(60000,784)\n",
    "x_test = x_test.reshape(10000,784)"
   ]
  },
  {
   "cell_type": "code",
   "execution_count": 42,
   "metadata": {},
   "outputs": [],
   "source": [
    "# float32 데이터형으로 변환하고 0 255 범위를 0 1 범위로 정규화\n",
    "x_train = x_train.astype(np.float32)/255.0\n",
    "x_test = x_test.astype(np.float32)/255.0"
   ]
  },
  {
   "cell_type": "code",
   "execution_count": 43,
   "metadata": {},
   "outputs": [],
   "source": [
    "# 레이블을 원핫 코드로 변환\n",
    "y_train = tf.keras.utils.to_categorical(y_train,10)\n",
    "y_test = tf.keras.utils.to_categorical(y_test,10)"
   ]
  },
  {
   "cell_type": "code",
   "execution_count": 44,
   "metadata": {},
   "outputs": [],
   "source": [
    "# 신경망 구조 설계\n",
    "n_input = 784\n",
    "n_hidden = 1024\n",
    "n_output = 10\n",
    "\n",
    "mlp=Sequential()\n",
    "\n",
    "mlp.add(Dense(units=n_hidden, \n",
    "              activation='tanh', \n",
    "              input_shape=(n_input,),\n",
    "              kernel_initializer='random_uniform',\n",
    "              bias_initializer='zeros'))\n",
    "\n",
    "mlp.add(Dense(units=n_output, \n",
    "              activation='tanh', \n",
    "              kernel_initializer='random_uniform',\n",
    "              bias_initializer='zeros'))"
   ]
  },
  {
   "cell_type": "code",
   "execution_count": 45,
   "metadata": {
    "collapsed": true,
    "jupyter": {
     "outputs_hidden": true
    }
   },
   "outputs": [
    {
     "name": "stdout",
     "output_type": "stream",
     "text": [
      "Epoch 1/30\n",
      "469/469 - 2s - loss: 0.0423 - accuracy: 0.8466 - val_loss: 0.0267 - val_accuracy: 0.9102\n",
      "Epoch 2/30\n",
      "469/469 - 2s - loss: 0.0223 - accuracy: 0.9299 - val_loss: 0.0195 - val_accuracy: 0.9392\n",
      "Epoch 3/30\n",
      "469/469 - 2s - loss: 0.0165 - accuracy: 0.9484 - val_loss: 0.0145 - val_accuracy: 0.9529\n",
      "Epoch 4/30\n",
      "469/469 - 2s - loss: 0.0140 - accuracy: 0.9567 - val_loss: 0.0133 - val_accuracy: 0.9577\n",
      "Epoch 5/30\n",
      "469/469 - 2s - loss: 0.0121 - accuracy: 0.9637 - val_loss: 0.0117 - val_accuracy: 0.9631\n",
      "Epoch 6/30\n",
      "469/469 - 2s - loss: 0.0109 - accuracy: 0.9679 - val_loss: 0.0107 - val_accuracy: 0.9661\n",
      "Epoch 7/30\n",
      "469/469 - 2s - loss: 0.0101 - accuracy: 0.9704 - val_loss: 0.0104 - val_accuracy: 0.9665\n",
      "Epoch 8/30\n",
      "469/469 - 2s - loss: 0.0094 - accuracy: 0.9740 - val_loss: 0.0100 - val_accuracy: 0.9684\n",
      "Epoch 9/30\n",
      "469/469 - 2s - loss: 0.0088 - accuracy: 0.9758 - val_loss: 0.0099 - val_accuracy: 0.9685\n",
      "Epoch 10/30\n",
      "469/469 - 2s - loss: 0.0083 - accuracy: 0.9781 - val_loss: 0.0095 - val_accuracy: 0.9709\n",
      "Epoch 11/30\n",
      "469/469 - 2s - loss: 0.0080 - accuracy: 0.9804 - val_loss: 0.0090 - val_accuracy: 0.9719\n",
      "Epoch 12/30\n",
      "469/469 - 2s - loss: 0.0076 - accuracy: 0.9811 - val_loss: 0.0088 - val_accuracy: 0.9728\n",
      "Epoch 13/30\n",
      "469/469 - 2s - loss: 0.0072 - accuracy: 0.9826 - val_loss: 0.0083 - val_accuracy: 0.9736\n",
      "Epoch 14/30\n",
      "469/469 - 2s - loss: 0.0070 - accuracy: 0.9839 - val_loss: 0.0084 - val_accuracy: 0.9738\n",
      "Epoch 15/30\n",
      "469/469 - 2s - loss: 0.0068 - accuracy: 0.9846 - val_loss: 0.0082 - val_accuracy: 0.9734\n",
      "Epoch 16/30\n",
      "469/469 - 2s - loss: 0.0066 - accuracy: 0.9858 - val_loss: 0.0080 - val_accuracy: 0.9738\n",
      "Epoch 17/30\n",
      "469/469 - 2s - loss: 0.0063 - accuracy: 0.9865 - val_loss: 0.0084 - val_accuracy: 0.9754\n",
      "Epoch 18/30\n",
      "469/469 - 2s - loss: 0.0061 - accuracy: 0.9871 - val_loss: 0.0079 - val_accuracy: 0.9752\n",
      "Epoch 19/30\n",
      "469/469 - 2s - loss: 0.0060 - accuracy: 0.9878 - val_loss: 0.0076 - val_accuracy: 0.9754\n",
      "Epoch 20/30\n",
      "469/469 - 2s - loss: 0.0058 - accuracy: 0.9887 - val_loss: 0.0080 - val_accuracy: 0.9758\n",
      "Epoch 21/30\n",
      "469/469 - 2s - loss: 0.0057 - accuracy: 0.9888 - val_loss: 0.0078 - val_accuracy: 0.9760\n",
      "Epoch 22/30\n",
      "469/469 - 2s - loss: 0.0055 - accuracy: 0.9894 - val_loss: 0.0077 - val_accuracy: 0.9756\n",
      "Epoch 23/30\n",
      "469/469 - 2s - loss: 0.0054 - accuracy: 0.9901 - val_loss: 0.0080 - val_accuracy: 0.9753\n",
      "Epoch 24/30\n",
      "469/469 - 2s - loss: 0.0053 - accuracy: 0.9905 - val_loss: 0.0078 - val_accuracy: 0.9764\n",
      "Epoch 25/30\n",
      "469/469 - 2s - loss: 0.0051 - accuracy: 0.9906 - val_loss: 0.0077 - val_accuracy: 0.9755\n",
      "Epoch 26/30\n",
      "469/469 - 2s - loss: 0.0051 - accuracy: 0.9910 - val_loss: 0.0074 - val_accuracy: 0.9755\n",
      "Epoch 27/30\n",
      "469/469 - 2s - loss: 0.0049 - accuracy: 0.9913 - val_loss: 0.0076 - val_accuracy: 0.9764\n",
      "Epoch 28/30\n",
      "469/469 - 2s - loss: 0.0048 - accuracy: 0.9917 - val_loss: 0.0074 - val_accuracy: 0.9751\n",
      "Epoch 29/30\n",
      "469/469 - 2s - loss: 0.0048 - accuracy: 0.9921 - val_loss: 0.0076 - val_accuracy: 0.9760\n",
      "Epoch 30/30\n",
      "469/469 - 2s - loss: 0.0046 - accuracy: 0.9925 - val_loss: 0.0073 - val_accuracy: 0.9765\n"
     ]
    }
   ],
   "source": [
    "# 신경망 학습\n",
    "\n",
    "# mean_squared_error 손실 함수 MSE 사용\n",
    "# => 신경망이 학습할 수 있도록 해주는 지표. 머신러닝 모델의 출력값과 사용자가 원하는 출력값의 차이, \n",
    "#   즉 오차를 말함. 이 손실함수 값을 최소화되도록 하는 가중치와 편향을 찾는 것이 바로 학습이다.\n",
    "#   일반적인 손실함수로 평균 제곱 오차(MSE)나 교차 엔트로피 오차(CEE)를 사용합니다.\n",
    "# Adam 옵티마이저로 Adam 사용(Adaptive momentum estimation)\n",
    "# => 옵티마이저 : 학습속도를 빠르고 안정적이게 하는것\n",
    "#    가장 많이 사용하고 검증된 옵티마이저 Adam\n",
    "mlp.compile(loss='mean_squared_error', \n",
    "            optimizer=Adam(learning_rate=0.001),\n",
    "            metrics=['accuracy'])\n",
    "\n",
    "# 학습 도중에 발생한 정보를 hist 객체에 저장해 둠 (시각화 활용)\n",
    "hist=mlp.fit(x_train,y_train,\n",
    "             batch_size=128, \n",
    "             epochs=30,\n",
    "             validation_data=(x_test,y_test),\n",
    "             verbose=2)"
   ]
  },
  {
   "cell_type": "code",
   "execution_count": 46,
   "metadata": {},
   "outputs": [
    {
     "name": "stdout",
     "output_type": "stream",
     "text": [
      "정확률은 97.64999747276306\n"
     ]
    }
   ],
   "source": [
    "# 학습된 신경망으로 예측\n",
    "# evaluate 파라미터로 학습 데이터와 학습레이블을 넣어줍니다. 결과는 [손실, 정확도]로 반환합니다.\n",
    "res=mlp.evaluate(x_test,y_test,verbose=0)\n",
    "print(\"정확률은\",res[1]*100)"
   ]
  }
 ],
 "metadata": {
  "kernelspec": {
   "display_name": "Python 3",
   "language": "python",
   "name": "python3"
  },
  "language_info": {
   "codemirror_mode": {
    "name": "ipython",
    "version": 3
   },
   "file_extension": ".py",
   "mimetype": "text/x-python",
   "name": "python",
   "nbconvert_exporter": "python",
   "pygments_lexer": "ipython3",
   "version": "3.8.5"
  }
 },
 "nbformat": 4,
 "nbformat_minor": 4
}
