{
 "cells": [
  {
   "cell_type": "code",
   "execution_count": 4,
   "metadata": {},
   "outputs": [],
   "source": [
    "import tensorflow as tf"
   ]
  },
  {
   "cell_type": "code",
   "execution_count": 11,
   "metadata": {},
   "outputs": [
    {
     "name": "stdout",
     "output_type": "stream",
     "text": [
      "2.4.1\n",
      "tf.Tensor(\n",
      "[[0.13017702 0.09202707 0.05720556]\n",
      " [0.7577729  0.4890324  0.8850335 ]], shape=(2, 3), dtype=float32)\n",
      "<class 'tensorflow.python.framework.ops.EagerTensor'>\n"
     ]
    }
   ],
   "source": [
    "print(tf.__version__)\n",
    "t = tf.random.uniform([2,3],0,1)\n",
    "print(a)\n",
    "print(type(a))"
   ]
  },
  {
   "cell_type": "code",
   "execution_count": 12,
   "metadata": {},
   "outputs": [],
   "source": [
    "import numpy as np"
   ]
  },
  {
   "cell_type": "code",
   "execution_count": 13,
   "metadata": {},
   "outputs": [],
   "source": [
    "n = np.random.uniform(0,1,[2,3])"
   ]
  },
  {
   "cell_type": "code",
   "execution_count": 15,
   "metadata": {},
   "outputs": [
    {
     "name": "stdout",
     "output_type": "stream",
     "text": [
      "tensorflow로 생성한 텐서:\n",
      " tf.Tensor(\n",
      "[[0.25961637 0.09932053 0.6072885 ]\n",
      " [0.78393376 0.3545419  0.23833656]], shape=(2, 3), dtype=float32) \n",
      "\n",
      "numpy로 생성한 ndarray\n",
      " [[0.4659103  0.58333647 0.21341782]\n",
      " [0.09038523 0.36990483 0.56652918]] \n",
      "\n",
      "덧셈 결과: \n",
      " tf.Tensor(\n",
      "[[0.7255267 0.682657  0.8207063]\n",
      " [0.874319  0.7244467 0.8048657]], shape=(2, 3), dtype=float32)\n"
     ]
    }
   ],
   "source": [
    "print(\"tensorflow로 생성한 텐서:\\n\", t, \"\\n\")\n",
    "print(\"numpy로 생성한 ndarray\\n\", n, \"\\n\")\n",
    "\n",
    "res = t + n\n",
    "print(\"덧셈 결과: \\n\", res)"
   ]
  },
  {
   "cell_type": "code",
   "execution_count": null,
   "metadata": {},
   "outputs": [],
   "source": []
  }
 ],
 "metadata": {
  "kernelspec": {
   "display_name": "Python 3",
   "language": "python",
   "name": "python3"
  },
  "language_info": {
   "codemirror_mode": {
    "name": "ipython",
    "version": 3
   },
   "file_extension": ".py",
   "mimetype": "text/x-python",
   "name": "python",
   "nbconvert_exporter": "python",
   "pygments_lexer": "ipython3",
   "version": "3.8.5"
  }
 },
 "nbformat": 4,
 "nbformat_minor": 4
}
